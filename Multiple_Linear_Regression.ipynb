{
  "nbformat": 4,
  "nbformat_minor": 0,
  "metadata": {
    "colab": {
      "name": "Multiple Linear Regression",
      "provenance": []
    },
    "kernelspec": {
      "name": "python3",
      "display_name": "Python 3"
    },
    "language_info": {
      "name": "python"
    }
  },
  "cells": [
    {
      "cell_type": "code",
      "execution_count": 104,
      "metadata": {
        "id": "ifD7c7UEvoHG"
      },
      "outputs": [],
      "source": [
        "import numpy as np\n",
        "import pandas as pd\n",
        "import matplotlib.pyplot as plt\n",
        "import seaborn as sns\n",
        "%matplotlib inline\n",
        "from sklearn.linear_model import LinearRegression\n",
        "import warnings as w\n",
        "w.filterwarnings('ignore')"
      ]
    },
    {
      "cell_type": "code",
      "source": [
        "data=pd.read_csv('/content/insurance (1).csv')"
      ],
      "metadata": {
        "id": "6h4ahvUrysKR"
      },
      "execution_count": 105,
      "outputs": []
    },
    {
      "cell_type": "code",
      "source": [
        "data.head()"
      ],
      "metadata": {
        "colab": {
          "base_uri": "https://localhost:8080/",
          "height": 206
        },
        "id": "tcPzCoFOzLoE",
        "outputId": "3e8b16b6-1ed6-4e9a-abf2-5d13b1447214"
      },
      "execution_count": 106,
      "outputs": [
        {
          "output_type": "execute_result",
          "data": {
            "text/plain": [
              "   age     sex     bmi  children smoker     region      charges\n",
              "0   19  female  27.900         0    yes  southwest  16884.92400\n",
              "1   18    male  33.770         1     no  southeast   1725.55230\n",
              "2   28    male  33.000         3     no  southeast   4449.46200\n",
              "3   33    male  22.705         0     no  northwest  21984.47061\n",
              "4   32    male  28.880         0     no  northwest   3866.85520"
            ],
            "text/html": [
              "\n",
              "  <div id=\"df-d86e4600-e0fb-45d7-a20e-fff69ce3df40\">\n",
              "    <div class=\"colab-df-container\">\n",
              "      <div>\n",
              "<style scoped>\n",
              "    .dataframe tbody tr th:only-of-type {\n",
              "        vertical-align: middle;\n",
              "    }\n",
              "\n",
              "    .dataframe tbody tr th {\n",
              "        vertical-align: top;\n",
              "    }\n",
              "\n",
              "    .dataframe thead th {\n",
              "        text-align: right;\n",
              "    }\n",
              "</style>\n",
              "<table border=\"1\" class=\"dataframe\">\n",
              "  <thead>\n",
              "    <tr style=\"text-align: right;\">\n",
              "      <th></th>\n",
              "      <th>age</th>\n",
              "      <th>sex</th>\n",
              "      <th>bmi</th>\n",
              "      <th>children</th>\n",
              "      <th>smoker</th>\n",
              "      <th>region</th>\n",
              "      <th>charges</th>\n",
              "    </tr>\n",
              "  </thead>\n",
              "  <tbody>\n",
              "    <tr>\n",
              "      <th>0</th>\n",
              "      <td>19</td>\n",
              "      <td>female</td>\n",
              "      <td>27.900</td>\n",
              "      <td>0</td>\n",
              "      <td>yes</td>\n",
              "      <td>southwest</td>\n",
              "      <td>16884.92400</td>\n",
              "    </tr>\n",
              "    <tr>\n",
              "      <th>1</th>\n",
              "      <td>18</td>\n",
              "      <td>male</td>\n",
              "      <td>33.770</td>\n",
              "      <td>1</td>\n",
              "      <td>no</td>\n",
              "      <td>southeast</td>\n",
              "      <td>1725.55230</td>\n",
              "    </tr>\n",
              "    <tr>\n",
              "      <th>2</th>\n",
              "      <td>28</td>\n",
              "      <td>male</td>\n",
              "      <td>33.000</td>\n",
              "      <td>3</td>\n",
              "      <td>no</td>\n",
              "      <td>southeast</td>\n",
              "      <td>4449.46200</td>\n",
              "    </tr>\n",
              "    <tr>\n",
              "      <th>3</th>\n",
              "      <td>33</td>\n",
              "      <td>male</td>\n",
              "      <td>22.705</td>\n",
              "      <td>0</td>\n",
              "      <td>no</td>\n",
              "      <td>northwest</td>\n",
              "      <td>21984.47061</td>\n",
              "    </tr>\n",
              "    <tr>\n",
              "      <th>4</th>\n",
              "      <td>32</td>\n",
              "      <td>male</td>\n",
              "      <td>28.880</td>\n",
              "      <td>0</td>\n",
              "      <td>no</td>\n",
              "      <td>northwest</td>\n",
              "      <td>3866.85520</td>\n",
              "    </tr>\n",
              "  </tbody>\n",
              "</table>\n",
              "</div>\n",
              "      <button class=\"colab-df-convert\" onclick=\"convertToInteractive('df-d86e4600-e0fb-45d7-a20e-fff69ce3df40')\"\n",
              "              title=\"Convert this dataframe to an interactive table.\"\n",
              "              style=\"display:none;\">\n",
              "        \n",
              "  <svg xmlns=\"http://www.w3.org/2000/svg\" height=\"24px\"viewBox=\"0 0 24 24\"\n",
              "       width=\"24px\">\n",
              "    <path d=\"M0 0h24v24H0V0z\" fill=\"none\"/>\n",
              "    <path d=\"M18.56 5.44l.94 2.06.94-2.06 2.06-.94-2.06-.94-.94-2.06-.94 2.06-2.06.94zm-11 1L8.5 8.5l.94-2.06 2.06-.94-2.06-.94L8.5 2.5l-.94 2.06-2.06.94zm10 10l.94 2.06.94-2.06 2.06-.94-2.06-.94-.94-2.06-.94 2.06-2.06.94z\"/><path d=\"M17.41 7.96l-1.37-1.37c-.4-.4-.92-.59-1.43-.59-.52 0-1.04.2-1.43.59L10.3 9.45l-7.72 7.72c-.78.78-.78 2.05 0 2.83L4 21.41c.39.39.9.59 1.41.59.51 0 1.02-.2 1.41-.59l7.78-7.78 2.81-2.81c.8-.78.8-2.07 0-2.86zM5.41 20L4 18.59l7.72-7.72 1.47 1.35L5.41 20z\"/>\n",
              "  </svg>\n",
              "      </button>\n",
              "      \n",
              "  <style>\n",
              "    .colab-df-container {\n",
              "      display:flex;\n",
              "      flex-wrap:wrap;\n",
              "      gap: 12px;\n",
              "    }\n",
              "\n",
              "    .colab-df-convert {\n",
              "      background-color: #E8F0FE;\n",
              "      border: none;\n",
              "      border-radius: 50%;\n",
              "      cursor: pointer;\n",
              "      display: none;\n",
              "      fill: #1967D2;\n",
              "      height: 32px;\n",
              "      padding: 0 0 0 0;\n",
              "      width: 32px;\n",
              "    }\n",
              "\n",
              "    .colab-df-convert:hover {\n",
              "      background-color: #E2EBFA;\n",
              "      box-shadow: 0px 1px 2px rgba(60, 64, 67, 0.3), 0px 1px 3px 1px rgba(60, 64, 67, 0.15);\n",
              "      fill: #174EA6;\n",
              "    }\n",
              "\n",
              "    [theme=dark] .colab-df-convert {\n",
              "      background-color: #3B4455;\n",
              "      fill: #D2E3FC;\n",
              "    }\n",
              "\n",
              "    [theme=dark] .colab-df-convert:hover {\n",
              "      background-color: #434B5C;\n",
              "      box-shadow: 0px 1px 3px 1px rgba(0, 0, 0, 0.15);\n",
              "      filter: drop-shadow(0px 1px 2px rgba(0, 0, 0, 0.3));\n",
              "      fill: #FFFFFF;\n",
              "    }\n",
              "  </style>\n",
              "\n",
              "      <script>\n",
              "        const buttonEl =\n",
              "          document.querySelector('#df-d86e4600-e0fb-45d7-a20e-fff69ce3df40 button.colab-df-convert');\n",
              "        buttonEl.style.display =\n",
              "          google.colab.kernel.accessAllowed ? 'block' : 'none';\n",
              "\n",
              "        async function convertToInteractive(key) {\n",
              "          const element = document.querySelector('#df-d86e4600-e0fb-45d7-a20e-fff69ce3df40');\n",
              "          const dataTable =\n",
              "            await google.colab.kernel.invokeFunction('convertToInteractive',\n",
              "                                                     [key], {});\n",
              "          if (!dataTable) return;\n",
              "\n",
              "          const docLinkHtml = 'Like what you see? Visit the ' +\n",
              "            '<a target=\"_blank\" href=https://colab.research.google.com/notebooks/data_table.ipynb>data table notebook</a>'\n",
              "            + ' to learn more about interactive tables.';\n",
              "          element.innerHTML = '';\n",
              "          dataTable['output_type'] = 'display_data';\n",
              "          await google.colab.output.renderOutput(dataTable, element);\n",
              "          const docLink = document.createElement('div');\n",
              "          docLink.innerHTML = docLinkHtml;\n",
              "          element.appendChild(docLink);\n",
              "        }\n",
              "      </script>\n",
              "    </div>\n",
              "  </div>\n",
              "  "
            ]
          },
          "metadata": {},
          "execution_count": 106
        }
      ]
    },
    {
      "cell_type": "code",
      "source": [
        "df=data.copy()\n",
        "df1=data.copy()\n",
        "df2=data.copy()\n",
        "df3=data.copy()\n",
        "df4=data.copy()"
      ],
      "metadata": {
        "id": "hjVyQq8PzNb7"
      },
      "execution_count": 107,
      "outputs": []
    },
    {
      "cell_type": "markdown",
      "source": [
        "## **Encoding**"
      ],
      "metadata": {
        "id": "aaE8EJud2-47"
      }
    },
    {
      "cell_type": "code",
      "source": [
        "df.region\t.unique()"
      ],
      "metadata": {
        "colab": {
          "base_uri": "https://localhost:8080/"
        },
        "id": "EEqA4qfP3BXK",
        "outputId": "95b7f526-f67f-4e50-c472-18f6fbb362cf"
      },
      "execution_count": 108,
      "outputs": [
        {
          "output_type": "execute_result",
          "data": {
            "text/plain": [
              "array(['southwest', 'southeast', 'northwest', 'northeast'], dtype=object)"
            ]
          },
          "metadata": {},
          "execution_count": 108
        }
      ]
    },
    {
      "cell_type": "markdown",
      "source": [
        "***Label Encoding***"
      ],
      "metadata": {
        "id": "TnAZg4993cMF"
      }
    },
    {
      "cell_type": "code",
      "source": [
        "from sklearn.preprocessing import LabelEncoder\n",
        "le=LabelEncoder()"
      ],
      "metadata": {
        "id": "Tcdjy90B3PBo"
      },
      "execution_count": 109,
      "outputs": []
    },
    {
      "cell_type": "code",
      "source": [
        "from pandas.core.dtypes.common import is_numeric_dtype"
      ],
      "metadata": {
        "id": "R2HgwBrs3mcs"
      },
      "execution_count": 110,
      "outputs": []
    },
    {
      "cell_type": "code",
      "source": [
        "for i in df.columns:\n",
        "  if is_numeric_dtype(df[i]):\n",
        "    continue\n",
        "  df[i]= le.fit_transform(df[i])  "
      ],
      "metadata": {
        "id": "CRRYxMlH4Mhi"
      },
      "execution_count": 111,
      "outputs": []
    },
    {
      "cell_type": "code",
      "source": [
        "df.head()"
      ],
      "metadata": {
        "colab": {
          "base_uri": "https://localhost:8080/",
          "height": 206
        },
        "id": "kUAyN_WS48ya",
        "outputId": "c4cab2f1-f5c1-4609-b30c-d639ec8de2d2"
      },
      "execution_count": 112,
      "outputs": [
        {
          "output_type": "execute_result",
          "data": {
            "text/plain": [
              "   age  sex     bmi  children  smoker  region      charges\n",
              "0   19    0  27.900         0       1       3  16884.92400\n",
              "1   18    1  33.770         1       0       2   1725.55230\n",
              "2   28    1  33.000         3       0       2   4449.46200\n",
              "3   33    1  22.705         0       0       1  21984.47061\n",
              "4   32    1  28.880         0       0       1   3866.85520"
            ],
            "text/html": [
              "\n",
              "  <div id=\"df-28530b1a-d9a9-48f9-8d0a-1c382be0b011\">\n",
              "    <div class=\"colab-df-container\">\n",
              "      <div>\n",
              "<style scoped>\n",
              "    .dataframe tbody tr th:only-of-type {\n",
              "        vertical-align: middle;\n",
              "    }\n",
              "\n",
              "    .dataframe tbody tr th {\n",
              "        vertical-align: top;\n",
              "    }\n",
              "\n",
              "    .dataframe thead th {\n",
              "        text-align: right;\n",
              "    }\n",
              "</style>\n",
              "<table border=\"1\" class=\"dataframe\">\n",
              "  <thead>\n",
              "    <tr style=\"text-align: right;\">\n",
              "      <th></th>\n",
              "      <th>age</th>\n",
              "      <th>sex</th>\n",
              "      <th>bmi</th>\n",
              "      <th>children</th>\n",
              "      <th>smoker</th>\n",
              "      <th>region</th>\n",
              "      <th>charges</th>\n",
              "    </tr>\n",
              "  </thead>\n",
              "  <tbody>\n",
              "    <tr>\n",
              "      <th>0</th>\n",
              "      <td>19</td>\n",
              "      <td>0</td>\n",
              "      <td>27.900</td>\n",
              "      <td>0</td>\n",
              "      <td>1</td>\n",
              "      <td>3</td>\n",
              "      <td>16884.92400</td>\n",
              "    </tr>\n",
              "    <tr>\n",
              "      <th>1</th>\n",
              "      <td>18</td>\n",
              "      <td>1</td>\n",
              "      <td>33.770</td>\n",
              "      <td>1</td>\n",
              "      <td>0</td>\n",
              "      <td>2</td>\n",
              "      <td>1725.55230</td>\n",
              "    </tr>\n",
              "    <tr>\n",
              "      <th>2</th>\n",
              "      <td>28</td>\n",
              "      <td>1</td>\n",
              "      <td>33.000</td>\n",
              "      <td>3</td>\n",
              "      <td>0</td>\n",
              "      <td>2</td>\n",
              "      <td>4449.46200</td>\n",
              "    </tr>\n",
              "    <tr>\n",
              "      <th>3</th>\n",
              "      <td>33</td>\n",
              "      <td>1</td>\n",
              "      <td>22.705</td>\n",
              "      <td>0</td>\n",
              "      <td>0</td>\n",
              "      <td>1</td>\n",
              "      <td>21984.47061</td>\n",
              "    </tr>\n",
              "    <tr>\n",
              "      <th>4</th>\n",
              "      <td>32</td>\n",
              "      <td>1</td>\n",
              "      <td>28.880</td>\n",
              "      <td>0</td>\n",
              "      <td>0</td>\n",
              "      <td>1</td>\n",
              "      <td>3866.85520</td>\n",
              "    </tr>\n",
              "  </tbody>\n",
              "</table>\n",
              "</div>\n",
              "      <button class=\"colab-df-convert\" onclick=\"convertToInteractive('df-28530b1a-d9a9-48f9-8d0a-1c382be0b011')\"\n",
              "              title=\"Convert this dataframe to an interactive table.\"\n",
              "              style=\"display:none;\">\n",
              "        \n",
              "  <svg xmlns=\"http://www.w3.org/2000/svg\" height=\"24px\"viewBox=\"0 0 24 24\"\n",
              "       width=\"24px\">\n",
              "    <path d=\"M0 0h24v24H0V0z\" fill=\"none\"/>\n",
              "    <path d=\"M18.56 5.44l.94 2.06.94-2.06 2.06-.94-2.06-.94-.94-2.06-.94 2.06-2.06.94zm-11 1L8.5 8.5l.94-2.06 2.06-.94-2.06-.94L8.5 2.5l-.94 2.06-2.06.94zm10 10l.94 2.06.94-2.06 2.06-.94-2.06-.94-.94-2.06-.94 2.06-2.06.94z\"/><path d=\"M17.41 7.96l-1.37-1.37c-.4-.4-.92-.59-1.43-.59-.52 0-1.04.2-1.43.59L10.3 9.45l-7.72 7.72c-.78.78-.78 2.05 0 2.83L4 21.41c.39.39.9.59 1.41.59.51 0 1.02-.2 1.41-.59l7.78-7.78 2.81-2.81c.8-.78.8-2.07 0-2.86zM5.41 20L4 18.59l7.72-7.72 1.47 1.35L5.41 20z\"/>\n",
              "  </svg>\n",
              "      </button>\n",
              "      \n",
              "  <style>\n",
              "    .colab-df-container {\n",
              "      display:flex;\n",
              "      flex-wrap:wrap;\n",
              "      gap: 12px;\n",
              "    }\n",
              "\n",
              "    .colab-df-convert {\n",
              "      background-color: #E8F0FE;\n",
              "      border: none;\n",
              "      border-radius: 50%;\n",
              "      cursor: pointer;\n",
              "      display: none;\n",
              "      fill: #1967D2;\n",
              "      height: 32px;\n",
              "      padding: 0 0 0 0;\n",
              "      width: 32px;\n",
              "    }\n",
              "\n",
              "    .colab-df-convert:hover {\n",
              "      background-color: #E2EBFA;\n",
              "      box-shadow: 0px 1px 2px rgba(60, 64, 67, 0.3), 0px 1px 3px 1px rgba(60, 64, 67, 0.15);\n",
              "      fill: #174EA6;\n",
              "    }\n",
              "\n",
              "    [theme=dark] .colab-df-convert {\n",
              "      background-color: #3B4455;\n",
              "      fill: #D2E3FC;\n",
              "    }\n",
              "\n",
              "    [theme=dark] .colab-df-convert:hover {\n",
              "      background-color: #434B5C;\n",
              "      box-shadow: 0px 1px 3px 1px rgba(0, 0, 0, 0.15);\n",
              "      filter: drop-shadow(0px 1px 2px rgba(0, 0, 0, 0.3));\n",
              "      fill: #FFFFFF;\n",
              "    }\n",
              "  </style>\n",
              "\n",
              "      <script>\n",
              "        const buttonEl =\n",
              "          document.querySelector('#df-28530b1a-d9a9-48f9-8d0a-1c382be0b011 button.colab-df-convert');\n",
              "        buttonEl.style.display =\n",
              "          google.colab.kernel.accessAllowed ? 'block' : 'none';\n",
              "\n",
              "        async function convertToInteractive(key) {\n",
              "          const element = document.querySelector('#df-28530b1a-d9a9-48f9-8d0a-1c382be0b011');\n",
              "          const dataTable =\n",
              "            await google.colab.kernel.invokeFunction('convertToInteractive',\n",
              "                                                     [key], {});\n",
              "          if (!dataTable) return;\n",
              "\n",
              "          const docLinkHtml = 'Like what you see? Visit the ' +\n",
              "            '<a target=\"_blank\" href=https://colab.research.google.com/notebooks/data_table.ipynb>data table notebook</a>'\n",
              "            + ' to learn more about interactive tables.';\n",
              "          element.innerHTML = '';\n",
              "          dataTable['output_type'] = 'display_data';\n",
              "          await google.colab.output.renderOutput(dataTable, element);\n",
              "          const docLink = document.createElement('div');\n",
              "          docLink.innerHTML = docLinkHtml;\n",
              "          element.appendChild(docLink);\n",
              "        }\n",
              "      </script>\n",
              "    </div>\n",
              "  </div>\n",
              "  "
            ]
          },
          "metadata": {},
          "execution_count": 112
        }
      ]
    },
    {
      "cell_type": "markdown",
      "source": [
        "# **Data Split**"
      ],
      "metadata": {
        "id": "5C64TLfQ5tb6"
      }
    },
    {
      "cell_type": "code",
      "source": [
        "x=df.drop(['charges'],axis=1)\n",
        "x.head(2)"
      ],
      "metadata": {
        "colab": {
          "base_uri": "https://localhost:8080/",
          "height": 112
        },
        "id": "kXC0u9z-5k-3",
        "outputId": "3a1dcfc0-f643-4b86-a9e8-c1654b894d34"
      },
      "execution_count": 113,
      "outputs": [
        {
          "output_type": "execute_result",
          "data": {
            "text/plain": [
              "   age  sex    bmi  children  smoker  region\n",
              "0   19    0  27.90         0       1       3\n",
              "1   18    1  33.77         1       0       2"
            ],
            "text/html": [
              "\n",
              "  <div id=\"df-d66c98fc-42ec-4683-b440-f8e5db4c0eed\">\n",
              "    <div class=\"colab-df-container\">\n",
              "      <div>\n",
              "<style scoped>\n",
              "    .dataframe tbody tr th:only-of-type {\n",
              "        vertical-align: middle;\n",
              "    }\n",
              "\n",
              "    .dataframe tbody tr th {\n",
              "        vertical-align: top;\n",
              "    }\n",
              "\n",
              "    .dataframe thead th {\n",
              "        text-align: right;\n",
              "    }\n",
              "</style>\n",
              "<table border=\"1\" class=\"dataframe\">\n",
              "  <thead>\n",
              "    <tr style=\"text-align: right;\">\n",
              "      <th></th>\n",
              "      <th>age</th>\n",
              "      <th>sex</th>\n",
              "      <th>bmi</th>\n",
              "      <th>children</th>\n",
              "      <th>smoker</th>\n",
              "      <th>region</th>\n",
              "    </tr>\n",
              "  </thead>\n",
              "  <tbody>\n",
              "    <tr>\n",
              "      <th>0</th>\n",
              "      <td>19</td>\n",
              "      <td>0</td>\n",
              "      <td>27.90</td>\n",
              "      <td>0</td>\n",
              "      <td>1</td>\n",
              "      <td>3</td>\n",
              "    </tr>\n",
              "    <tr>\n",
              "      <th>1</th>\n",
              "      <td>18</td>\n",
              "      <td>1</td>\n",
              "      <td>33.77</td>\n",
              "      <td>1</td>\n",
              "      <td>0</td>\n",
              "      <td>2</td>\n",
              "    </tr>\n",
              "  </tbody>\n",
              "</table>\n",
              "</div>\n",
              "      <button class=\"colab-df-convert\" onclick=\"convertToInteractive('df-d66c98fc-42ec-4683-b440-f8e5db4c0eed')\"\n",
              "              title=\"Convert this dataframe to an interactive table.\"\n",
              "              style=\"display:none;\">\n",
              "        \n",
              "  <svg xmlns=\"http://www.w3.org/2000/svg\" height=\"24px\"viewBox=\"0 0 24 24\"\n",
              "       width=\"24px\">\n",
              "    <path d=\"M0 0h24v24H0V0z\" fill=\"none\"/>\n",
              "    <path d=\"M18.56 5.44l.94 2.06.94-2.06 2.06-.94-2.06-.94-.94-2.06-.94 2.06-2.06.94zm-11 1L8.5 8.5l.94-2.06 2.06-.94-2.06-.94L8.5 2.5l-.94 2.06-2.06.94zm10 10l.94 2.06.94-2.06 2.06-.94-2.06-.94-.94-2.06-.94 2.06-2.06.94z\"/><path d=\"M17.41 7.96l-1.37-1.37c-.4-.4-.92-.59-1.43-.59-.52 0-1.04.2-1.43.59L10.3 9.45l-7.72 7.72c-.78.78-.78 2.05 0 2.83L4 21.41c.39.39.9.59 1.41.59.51 0 1.02-.2 1.41-.59l7.78-7.78 2.81-2.81c.8-.78.8-2.07 0-2.86zM5.41 20L4 18.59l7.72-7.72 1.47 1.35L5.41 20z\"/>\n",
              "  </svg>\n",
              "      </button>\n",
              "      \n",
              "  <style>\n",
              "    .colab-df-container {\n",
              "      display:flex;\n",
              "      flex-wrap:wrap;\n",
              "      gap: 12px;\n",
              "    }\n",
              "\n",
              "    .colab-df-convert {\n",
              "      background-color: #E8F0FE;\n",
              "      border: none;\n",
              "      border-radius: 50%;\n",
              "      cursor: pointer;\n",
              "      display: none;\n",
              "      fill: #1967D2;\n",
              "      height: 32px;\n",
              "      padding: 0 0 0 0;\n",
              "      width: 32px;\n",
              "    }\n",
              "\n",
              "    .colab-df-convert:hover {\n",
              "      background-color: #E2EBFA;\n",
              "      box-shadow: 0px 1px 2px rgba(60, 64, 67, 0.3), 0px 1px 3px 1px rgba(60, 64, 67, 0.15);\n",
              "      fill: #174EA6;\n",
              "    }\n",
              "\n",
              "    [theme=dark] .colab-df-convert {\n",
              "      background-color: #3B4455;\n",
              "      fill: #D2E3FC;\n",
              "    }\n",
              "\n",
              "    [theme=dark] .colab-df-convert:hover {\n",
              "      background-color: #434B5C;\n",
              "      box-shadow: 0px 1px 3px 1px rgba(0, 0, 0, 0.15);\n",
              "      filter: drop-shadow(0px 1px 2px rgba(0, 0, 0, 0.3));\n",
              "      fill: #FFFFFF;\n",
              "    }\n",
              "  </style>\n",
              "\n",
              "      <script>\n",
              "        const buttonEl =\n",
              "          document.querySelector('#df-d66c98fc-42ec-4683-b440-f8e5db4c0eed button.colab-df-convert');\n",
              "        buttonEl.style.display =\n",
              "          google.colab.kernel.accessAllowed ? 'block' : 'none';\n",
              "\n",
              "        async function convertToInteractive(key) {\n",
              "          const element = document.querySelector('#df-d66c98fc-42ec-4683-b440-f8e5db4c0eed');\n",
              "          const dataTable =\n",
              "            await google.colab.kernel.invokeFunction('convertToInteractive',\n",
              "                                                     [key], {});\n",
              "          if (!dataTable) return;\n",
              "\n",
              "          const docLinkHtml = 'Like what you see? Visit the ' +\n",
              "            '<a target=\"_blank\" href=https://colab.research.google.com/notebooks/data_table.ipynb>data table notebook</a>'\n",
              "            + ' to learn more about interactive tables.';\n",
              "          element.innerHTML = '';\n",
              "          dataTable['output_type'] = 'display_data';\n",
              "          await google.colab.output.renderOutput(dataTable, element);\n",
              "          const docLink = document.createElement('div');\n",
              "          docLink.innerHTML = docLinkHtml;\n",
              "          element.appendChild(docLink);\n",
              "        }\n",
              "      </script>\n",
              "    </div>\n",
              "  </div>\n",
              "  "
            ]
          },
          "metadata": {},
          "execution_count": 113
        }
      ]
    },
    {
      "cell_type": "code",
      "source": [
        "y=df['charges']"
      ],
      "metadata": {
        "id": "FYoJkjbl6PXt"
      },
      "execution_count": 114,
      "outputs": []
    },
    {
      "cell_type": "code",
      "source": [
        "y.head(2)"
      ],
      "metadata": {
        "colab": {
          "base_uri": "https://localhost:8080/"
        },
        "id": "Ff4_73hm6eiV",
        "outputId": "88bdc421-002b-42e0-dd58-270b249a6c6c"
      },
      "execution_count": 115,
      "outputs": [
        {
          "output_type": "execute_result",
          "data": {
            "text/plain": [
              "0    16884.9240\n",
              "1     1725.5523\n",
              "Name: charges, dtype: float64"
            ]
          },
          "metadata": {},
          "execution_count": 115
        }
      ]
    },
    {
      "cell_type": "code",
      "source": [
        "x.info"
      ],
      "metadata": {
        "colab": {
          "base_uri": "https://localhost:8080/"
        },
        "id": "tMYsfrTO6gQN",
        "outputId": "5d0d62cc-9164-40f7-bcc3-60aab0d00736"
      },
      "execution_count": 116,
      "outputs": [
        {
          "output_type": "execute_result",
          "data": {
            "text/plain": [
              "<bound method DataFrame.info of       age  sex     bmi  children  smoker  region\n",
              "0      19    0  27.900         0       1       3\n",
              "1      18    1  33.770         1       0       2\n",
              "2      28    1  33.000         3       0       2\n",
              "3      33    1  22.705         0       0       1\n",
              "4      32    1  28.880         0       0       1\n",
              "...   ...  ...     ...       ...     ...     ...\n",
              "1333   50    1  30.970         3       0       1\n",
              "1334   18    0  31.920         0       0       0\n",
              "1335   18    0  36.850         0       0       2\n",
              "1336   21    0  25.800         0       0       3\n",
              "1337   61    0  29.070         0       1       1\n",
              "\n",
              "[1338 rows x 6 columns]>"
            ]
          },
          "metadata": {},
          "execution_count": 116
        }
      ]
    },
    {
      "cell_type": "code",
      "source": [
        "sns.boxplot(x['sex'],y)"
      ],
      "metadata": {
        "colab": {
          "base_uri": "https://localhost:8080/",
          "height": 296
        },
        "id": "zLb24-Lz7AoZ",
        "outputId": "c817d83d-4a5f-4a42-d94c-d2982c01750f"
      },
      "execution_count": 117,
      "outputs": [
        {
          "output_type": "execute_result",
          "data": {
            "text/plain": [
              "<matplotlib.axes._subplots.AxesSubplot at 0x7fa0eb0a8050>"
            ]
          },
          "metadata": {},
          "execution_count": 117
        },
        {
          "output_type": "display_data",
          "data": {
            "text/plain": [
              "<Figure size 432x288 with 1 Axes>"
            ],
            "image/png": "[encoded data removed]"
          },
          "metadata": {
            "needs_background": "light"
          }
        }
      ]
    },
    {
      "cell_type": "code",
      "source": [
        "x.isnull().sum()"
      ],
      "metadata": {
        "colab": {
          "base_uri": "https://localhost:8080/"
        },
        "id": "1E1ZBCzn7mes",
        "outputId": "df1ad600-f51d-43a7-813c-2c3209c800e2"
      },
      "execution_count": 118,
      "outputs": [
        {
          "output_type": "execute_result",
          "data": {
            "text/plain": [
              "age         0\n",
              "sex         0\n",
              "bmi         0\n",
              "children    0\n",
              "smoker      0\n",
              "region      0\n",
              "dtype: int64"
            ]
          },
          "metadata": {},
          "execution_count": 118
        }
      ]
    },
    {
      "cell_type": "code",
      "source": [
        "y.isnull().sum()"
      ],
      "metadata": {
        "colab": {
          "base_uri": "https://localhost:8080/"
        },
        "id": "VDsw8pWm-HWa",
        "outputId": "c988cc7c-fe4c-4aa5-9696-90cfa03e18cc"
      },
      "execution_count": 119,
      "outputs": [
        {
          "output_type": "execute_result",
          "data": {
            "text/plain": [
              "0"
            ]
          },
          "metadata": {},
          "execution_count": 119
        }
      ]
    },
    {
      "cell_type": "code",
      "source": [
        "from sklearn.model_selection import train_test_split\n",
        "xtrain,xtest,ytrain,ytest=train_test_split(x,y,test_size=.30,random_state=1)"
      ],
      "metadata": {
        "id": "38bEtBbJ-Nq4"
      },
      "execution_count": 120,
      "outputs": []
    },
    {
      "cell_type": "code",
      "source": [
        "xtrain.head()"
      ],
      "metadata": {
        "colab": {
          "base_uri": "https://localhost:8080/",
          "height": 206
        },
        "id": "EaiTja1f-Y1S",
        "outputId": "04b129b4-0944-4d08-9da4-d6d44dfb47c9"
      },
      "execution_count": 121,
      "outputs": [
        {
          "output_type": "execute_result",
          "data": {
            "text/plain": [
              "     age  sex    bmi  children  smoker  region\n",
              "744   50    1  26.41         0       0       1\n",
              "363   21    0  26.40         1       0       3\n",
              "10    25    1  26.22         0       0       0\n",
              "970   50    0  28.16         3       0       2\n",
              "634   51    1  39.70         1       0       3"
            ],
            "text/html": [
              "\n",
              "  <div id=\"df-14753c21-557e-4dbe-b576-a212843ae17f\">\n",
              "    <div class=\"colab-df-container\">\n",
              "      <div>\n",
              "<style scoped>\n",
              "    .dataframe tbody tr th:only-of-type {\n",
              "        vertical-align: middle;\n",
              "    }\n",
              "\n",
              "    .dataframe tbody tr th {\n",
              "        vertical-align: top;\n",
              "    }\n",
              "\n",
              "    .dataframe thead th {\n",
              "        text-align: right;\n",
              "    }\n",
              "</style>\n",
              "<table border=\"1\" class=\"dataframe\">\n",
              "  <thead>\n",
              "    <tr style=\"text-align: right;\">\n",
              "      <th></th>\n",
              "      <th>age</th>\n",
              "      <th>sex</th>\n",
              "      <th>bmi</th>\n",
              "      <th>children</th>\n",
              "      <th>smoker</th>\n",
              "      <th>region</th>\n",
              "    </tr>\n",
              "  </thead>\n",
              "  <tbody>\n",
              "    <tr>\n",
              "      <th>744</th>\n",
              "      <td>50</td>\n",
              "      <td>1</td>\n",
              "      <td>26.41</td>\n",
              "      <td>0</td>\n",
              "      <td>0</td>\n",
              "      <td>1</td>\n",
              "    </tr>\n",
              "    <tr>\n",
              "      <th>363</th>\n",
              "      <td>21</td>\n",
              "      <td>0</td>\n",
              "      <td>26.40</td>\n",
              "      <td>1</td>\n",
              "      <td>0</td>\n",
              "      <td>3</td>\n",
              "    </tr>\n",
              "    <tr>\n",
              "      <th>10</th>\n",
              "      <td>25</td>\n",
              "      <td>1</td>\n",
              "      <td>26.22</td>\n",
              "      <td>0</td>\n",
              "      <td>0</td>\n",
              "      <td>0</td>\n",
              "    </tr>\n",
              "    <tr>\n",
              "      <th>970</th>\n",
              "      <td>50</td>\n",
              "      <td>0</td>\n",
              "      <td>28.16</td>\n",
              "      <td>3</td>\n",
              "      <td>0</td>\n",
              "      <td>2</td>\n",
              "    </tr>\n",
              "    <tr>\n",
              "      <th>634</th>\n",
              "      <td>51</td>\n",
              "      <td>1</td>\n",
              "      <td>39.70</td>\n",
              "      <td>1</td>\n",
              "      <td>0</td>\n",
              "      <td>3</td>\n",
              "    </tr>\n",
              "  </tbody>\n",
              "</table>\n",
              "</div>\n",
              "      <button class=\"colab-df-convert\" onclick=\"convertToInteractive('df-14753c21-557e-4dbe-b576-a212843ae17f')\"\n",
              "              title=\"Convert this dataframe to an interactive table.\"\n",
              "              style=\"display:none;\">\n",
              "        \n",
              "  <svg xmlns=\"http://www.w3.org/2000/svg\" height=\"24px\"viewBox=\"0 0 24 24\"\n",
              "       width=\"24px\">\n",
              "    <path d=\"M0 0h24v24H0V0z\" fill=\"none\"/>\n",
              "    <path d=\"M18.56 5.44l.94 2.06.94-2.06 2.06-.94-2.06-.94-.94-2.06-.94 2.06-2.06.94zm-11 1L8.5 8.5l.94-2.06 2.06-.94-2.06-.94L8.5 2.5l-.94 2.06-2.06.94zm10 10l.94 2.06.94-2.06 2.06-.94-2.06-.94-.94-2.06-.94 2.06-2.06.94z\"/><path d=\"M17.41 7.96l-1.37-1.37c-.4-.4-.92-.59-1.43-.59-.52 0-1.04.2-1.43.59L10.3 9.45l-7.72 7.72c-.78.78-.78 2.05 0 2.83L4 21.41c.39.39.9.59 1.41.59.51 0 1.02-.2 1.41-.59l7.78-7.78 2.81-2.81c.8-.78.8-2.07 0-2.86zM5.41 20L4 18.59l7.72-7.72 1.47 1.35L5.41 20z\"/>\n",
              "  </svg>\n",
              "      </button>\n",
              "      \n",
              "  <style>\n",
              "    .colab-df-container {\n",
              "      display:flex;\n",
              "      flex-wrap:wrap;\n",
              "      gap: 12px;\n",
              "    }\n",
              "\n",
              "    .colab-df-convert {\n",
              "      background-color: #E8F0FE;\n",
              "      border: none;\n",
              "      border-radius: 50%;\n",
              "      cursor: pointer;\n",
              "      display: none;\n",
              "      fill: #1967D2;\n",
              "      height: 32px;\n",
              "      padding: 0 0 0 0;\n",
              "      width: 32px;\n",
              "    }\n",
              "\n",
              "    .colab-df-convert:hover {\n",
              "      background-color: #E2EBFA;\n",
              "      box-shadow: 0px 1px 2px rgba(60, 64, 67, 0.3), 0px 1px 3px 1px rgba(60, 64, 67, 0.15);\n",
              "      fill: #174EA6;\n",
              "    }\n",
              "\n",
              "    [theme=dark] .colab-df-convert {\n",
              "      background-color: #3B4455;\n",
              "      fill: #D2E3FC;\n",
              "    }\n",
              "\n",
              "    [theme=dark] .colab-df-convert:hover {\n",
              "      background-color: #434B5C;\n",
              "      box-shadow: 0px 1px 3px 1px rgba(0, 0, 0, 0.15);\n",
              "      filter: drop-shadow(0px 1px 2px rgba(0, 0, 0, 0.3));\n",
              "      fill: #FFFFFF;\n",
              "    }\n",
              "  </style>\n",
              "\n",
              "      <script>\n",
              "        const buttonEl =\n",
              "          document.querySelector('#df-14753c21-557e-4dbe-b576-a212843ae17f button.colab-df-convert');\n",
              "        buttonEl.style.display =\n",
              "          google.colab.kernel.accessAllowed ? 'block' : 'none';\n",
              "\n",
              "        async function convertToInteractive(key) {\n",
              "          const element = document.querySelector('#df-14753c21-557e-4dbe-b576-a212843ae17f');\n",
              "          const dataTable =\n",
              "            await google.colab.kernel.invokeFunction('convertToInteractive',\n",
              "                                                     [key], {});\n",
              "          if (!dataTable) return;\n",
              "\n",
              "          const docLinkHtml = 'Like what you see? Visit the ' +\n",
              "            '<a target=\"_blank\" href=https://colab.research.google.com/notebooks/data_table.ipynb>data table notebook</a>'\n",
              "            + ' to learn more about interactive tables.';\n",
              "          element.innerHTML = '';\n",
              "          dataTable['output_type'] = 'display_data';\n",
              "          await google.colab.output.renderOutput(dataTable, element);\n",
              "          const docLink = document.createElement('div');\n",
              "          docLink.innerHTML = docLinkHtml;\n",
              "          element.appendChild(docLink);\n",
              "        }\n",
              "      </script>\n",
              "    </div>\n",
              "  </div>\n",
              "  "
            ]
          },
          "metadata": {},
          "execution_count": 121
        }
      ]
    },
    {
      "cell_type": "code",
      "source": [
        "ytrain.head()"
      ],
      "metadata": {
        "colab": {
          "base_uri": "https://localhost:8080/"
        },
        "id": "Ln3tGG3bAw-9",
        "outputId": "eef20907-c783-4e7d-8b40-baa7dead97d2"
      },
      "execution_count": 122,
      "outputs": [
        {
          "output_type": "execute_result",
          "data": {
            "text/plain": [
              "744     8827.2099\n",
              "363     2597.7790\n",
              "10      2721.3208\n",
              "970    10702.6424\n",
              "634     9391.3460\n",
              "Name: charges, dtype: float64"
            ]
          },
          "metadata": {},
          "execution_count": 122
        }
      ]
    },
    {
      "cell_type": "code",
      "source": [
        "lr=LinearRegression()"
      ],
      "metadata": {
        "id": "XCfNHuqw-oEe"
      },
      "execution_count": 123,
      "outputs": []
    },
    {
      "cell_type": "code",
      "source": [
        "lr.fit(xtrain,ytrain)"
      ],
      "metadata": {
        "colab": {
          "base_uri": "https://localhost:8080/"
        },
        "id": "9xJ-JwD_--MY",
        "outputId": "30321515-1a7b-4c7d-bdbf-3f24cefd907a"
      },
      "execution_count": 124,
      "outputs": [
        {
          "output_type": "execute_result",
          "data": {
            "text/plain": [
              "LinearRegression()"
            ]
          },
          "metadata": {},
          "execution_count": 124
        }
      ]
    },
    {
      "cell_type": "code",
      "source": [
        "lr.coef_"
      ],
      "metadata": {
        "colab": {
          "base_uri": "https://localhost:8080/"
        },
        "id": "5Jnn8nKb_CjA",
        "outputId": "bdb3d6f7-e1af-419c-df14-fc65d6814a12"
      },
      "execution_count": 125,
      "outputs": [
        {
          "output_type": "execute_result",
          "data": {
            "text/plain": [
              "array([  252.15440619,  -281.16765835,   316.514758  ,   351.46251009,\n",
              "       24044.37169738,  -318.49464584])"
            ]
          },
          "metadata": {},
          "execution_count": 125
        }
      ]
    },
    {
      "cell_type": "code",
      "source": [
        "lr.intercept_"
      ],
      "metadata": {
        "colab": {
          "base_uri": "https://localhost:8080/"
        },
        "id": "GTlnnEQO_GUS",
        "outputId": "ba2a169d-b69b-4618-fffc-d5254cdae4ea"
      },
      "execution_count": 126,
      "outputs": [
        {
          "output_type": "execute_result",
          "data": {
            "text/plain": [
              "-10936.556437496141"
            ]
          },
          "metadata": {},
          "execution_count": 126
        }
      ]
    },
    {
      "cell_type": "code",
      "source": [
        "#y = m1*x1 + m2*x2 + m3*x3 + c\n",
        "lr.predict([[50,1,26.41,0,0,1]])\n",
        "#8827.2099"
      ],
      "metadata": {
        "colab": {
          "base_uri": "https://localhost:8080/"
        },
        "id": "ooLQ8C-b_KVH",
        "outputId": "81788117-70ef-4386-e9f6-6be729b1a368"
      },
      "execution_count": 127,
      "outputs": [
        {
          "output_type": "execute_result",
          "data": {
            "text/plain": [
              "array([9430.65632658])"
            ]
          },
          "metadata": {},
          "execution_count": 127
        }
      ]
    },
    {
      "cell_type": "code",
      "source": [
        "x1=xtrain"
      ],
      "metadata": {
        "id": "82lGiHOAD2dm"
      },
      "execution_count": 140,
      "outputs": []
    },
    {
      "cell_type": "code",
      "source": [
        "pred=lr.predict(x1)\n",
        "pred"
      ],
      "metadata": {
        "colab": {
          "base_uri": "https://localhost:8080/"
        },
        "id": "LfS2OI-iCC8l",
        "outputId": "2821306a-8232-4a19-aadb-aa910452c86b"
      },
      "execution_count": 141,
      "outputs": [
        {
          "output_type": "execute_result",
          "data": {
            "text/plain": [
              "array([ 9.43065633e+03,  2.11065428e+03,  3.38515301e+03,  1.10016177e+04,\n",
              "        1.36037651e+04,  8.44727609e+03,  2.88990637e+04,  3.72146164e+04,\n",
              "        3.68875358e+03,  6.27798404e+02,  1.41223081e+04,  2.73361405e+04,\n",
              "        1.14907930e+04,  1.41577934e+04,  5.73682779e+03,  1.84667277e+02,\n",
              "        1.08016639e+04,  2.66562122e+03,  8.35164936e+03,  1.21644213e+04,\n",
              "        4.73033543e+03,  6.28230468e+03,  6.97413445e+03,  2.52432045e+04,\n",
              "       -1.11528211e+03,  1.37952095e+03,  1.47516504e+04,  2.78638188e+04,\n",
              "        3.01066649e+04,  4.38138693e+03,  5.04988785e+03,  1.03407691e+04,\n",
              "        1.04514304e+04,  1.09698469e+04,  1.58049639e+04,  7.25216168e+03,\n",
              "        1.70293490e+04,  9.83540671e+03,  1.21394763e+04,  5.47820491e+03,\n",
              "        7.32559696e+03,  4.57536386e+03,  5.68145006e+03,  1.14449963e+04,\n",
              "        3.38903134e+04,  4.71158063e+03,  1.04994379e+04,  8.19271074e+03,\n",
              "        3.47308637e+04,  3.23561854e+04,  4.84084061e+03,  2.88797125e+03,\n",
              "        1.16892254e+04,  3.11857744e+04,  1.08105100e+04,  2.12912165e+03,\n",
              "        3.31222888e+03,  2.93690142e+03,  2.65551635e+04,  1.67334731e+03,\n",
              "        2.98814669e+04,  3.69855670e+04,  3.72510719e+04,  3.11350962e+04,\n",
              "        8.81599978e+03,  2.80149372e+04,  1.24910755e+04,  1.00369182e+04,\n",
              "        1.39541580e+04,  7.31531343e+03,  1.41237871e+04,  2.95358858e+04,\n",
              "        6.42342836e+03,  9.28374954e+03,  1.28376715e+04,  2.89547269e+03,\n",
              "        1.17460632e+04,  1.27698676e+04,  3.99706653e+04,  9.66313494e+02,\n",
              "        5.38682151e+03,  1.24150946e+04,  2.80682373e+02,  1.00120051e+04,\n",
              "        3.09436417e+03,  1.03421278e+04,  5.87652184e+03,  2.58423737e+03,\n",
              "        1.19696105e+04,  3.12759438e+04,  8.73841149e+03,  1.13170946e+04,\n",
              "        1.26029163e+04,  1.11117329e+04,  9.79586665e+03,  1.25549127e+04,\n",
              "        7.05829973e+03,  2.93239328e+03,  1.30234838e+04,  2.89957264e+04,\n",
              "        1.12085392e+04,  3.15129134e+04,  2.33960397e+03,  1.14773004e+04,\n",
              "        9.83820224e+03,  1.51507187e+04,  1.38592158e+04,  3.27898350e+04,\n",
              "       -7.37978546e+02,  1.59738023e+04,  1.43256702e+04,  1.17046958e+04,\n",
              "        1.41891580e+04,  3.01930680e+04,  3.10766711e+04,  1.13754905e+04,\n",
              "        6.04688439e+03,  3.72731910e+04,  7.36144604e+03,  7.58871388e+03,\n",
              "        8.34463404e+03,  1.14205954e+04,  1.07163892e+04,  4.22614364e+03,\n",
              "        6.70498453e+03,  3.92545462e+03,  3.21527996e+04,  1.23176589e+04,\n",
              "        7.94648023e+03,  7.58673523e+03,  4.25055848e+03,  4.23447157e+03,\n",
              "        2.89781886e+04,  1.68114775e+04,  4.39033073e+03,  2.83199886e+04,\n",
              "        3.33326279e+04,  3.01731823e+04,  7.84730477e+03,  3.34638482e+04,\n",
              "        9.19341019e+03,  5.90526149e+03,  3.64255721e+04,  8.80794807e+03,\n",
              "        1.39889676e+04,  4.62880241e+03,  6.10585635e+03,  2.54046662e+03,\n",
              "        8.96632110e+03,  4.75856641e+03,  1.17595203e+04,  3.31996829e+04,\n",
              "        1.05922635e+04,  2.49286696e+04,  6.50728536e+03,  1.02529383e+04,\n",
              "        9.64918642e+03,  2.41910677e+04,  6.42563438e+03,  2.45736216e+03,\n",
              "        1.97943723e+03, -1.62736925e+03,  4.02486887e+04,  6.63901529e+03,\n",
              "        1.45415539e+04,  6.64247294e+03,  6.22863375e+03,  1.39143448e+04,\n",
              "        3.73781162e+03,  2.56703678e+04,  3.17990982e+04,  4.87806113e+03,\n",
              "        6.16965299e+03,  7.32428057e+03,  3.70852797e+03,  2.65001707e+04,\n",
              "       -8.30418825e+02,  5.08141852e+03,  7.17499171e+03,  1.02112462e+04,\n",
              "        3.10198242e+04,  1.86906297e+02,  4.92906525e+03,  5.97729502e+02,\n",
              "        9.11452463e+03,  3.44864096e+04,  4.09626968e+03,  2.33103313e+03,\n",
              "        7.31873393e+03,  1.27880773e+04,  8.51227159e+03,  3.39515406e+04,\n",
              "        3.43442615e+04,  8.81270351e+03,  2.18793965e+03,  6.05203800e+03,\n",
              "        4.56862178e+03,  1.34611741e+04,  1.44425185e+04,  2.53268677e+03,\n",
              "        9.22086028e+03,  1.12359737e+04,  1.28909241e+04,  1.30614989e+04,\n",
              "        3.19079033e+04,  7.42790760e+03,  1.15566810e+04,  1.63827506e+04,\n",
              "        8.43129087e+03,  9.18722338e+03,  1.54041300e+03,  3.50583336e+03,\n",
              "        4.03367942e+04,  3.03734571e+01,  1.38216298e+04,  5.44842108e+03,\n",
              "        6.85386022e+03,  8.58307272e+03,  4.41804322e+03,  3.58479310e+04,\n",
              "        3.67843805e+03,  7.60095723e+03,  2.66985154e+04,  1.41900946e+04,\n",
              "        4.23116446e+03, -1.21393216e+03,  5.96382050e+03,  8.38280718e+02,\n",
              "        1.27544585e+04,  6.75667724e+03,  1.22692594e+04,  7.16748634e+03,\n",
              "        1.16508513e+04,  4.79375199e+03,  1.35447965e+04,  1.05360999e+04,\n",
              "        3.09580653e+03,  3.61816964e+03,  3.59526873e+04,  2.23937498e+03,\n",
              "        3.21356787e+04,  2.78943931e+04,  2.97668338e+04,  8.94402121e+03,\n",
              "        3.39616900e+04,  5.03076343e+03,  3.83767538e+04,  3.12309160e+03,\n",
              "        1.13608640e+04,  5.09378107e+03,  5.51540579e+03,  6.98127537e+03,\n",
              "        8.29701523e+03,  1.97917431e+03,  1.16627070e+02,  4.80405290e+03,\n",
              "        1.47222244e+04,  9.18565718e+03,  3.82475485e+04,  7.57207941e+03,\n",
              "        1.57631600e+04,  5.68276987e+03,  1.30759730e+04,  1.69471213e+03,\n",
              "        3.53444187e+03,  1.06477776e+04,  4.82591732e+02,  9.15080856e+03,\n",
              "        1.08615620e+04,  6.57623249e+03,  3.62189795e+04,  1.74160278e+04,\n",
              "        6.06112581e+03,  4.16652591e+02,  6.50888356e+03,  1.08490293e+04,\n",
              "        3.42936035e+04,  3.42089481e+04,  9.80282342e+03,  1.30576407e+04,\n",
              "        3.22232402e+04,  3.89327591e+04,  6.20144388e+03,  3.42709668e+03,\n",
              "        6.89198585e+03,  1.16363507e+04,  6.94828256e+03,  3.27473031e+04,\n",
              "        1.33100416e+04,  7.72029676e+03,  1.24571955e+04,  2.74585502e+04,\n",
              "        1.35301490e+04,  7.20997146e+03,  1.35012848e+04,  2.79587662e+04,\n",
              "        1.13993570e+04,  1.58336167e+04,  9.96729961e+03,  8.58979327e+03,\n",
              "        5.82771362e+03,  6.54319101e+03,  1.34666518e+03,  1.23003684e+04,\n",
              "        3.24350179e+04,  3.05790670e+04,  1.10944676e+04,  1.00826370e+03,\n",
              "        1.35312987e+03,  8.37300713e+03,  1.44619045e+04,  2.57740268e+04,\n",
              "        1.65680305e+04,  8.59733151e+03,  1.93130873e+03,  5.70811774e+03,\n",
              "        3.22270424e+04,  1.08805752e+04,  3.66763517e+03,  6.58864478e+03,\n",
              "        5.34609860e+03,  1.15818922e+04,  1.09011422e+04,  2.86731741e+04,\n",
              "        1.44280090e+04,  3.09587478e+04,  1.04543295e+04,  5.02245287e+03,\n",
              "        1.12906845e+04,  5.56885125e+03,  3.72423181e+03,  5.54721158e+03,\n",
              "        2.40954412e+04,  3.57817745e+04,  4.27916888e+03,  1.12067154e+04,\n",
              "        3.81997803e+04,  3.64073953e+04,  1.31420503e+04,  8.00385332e+03,\n",
              "        3.55074501e+04,  6.22955406e+03,  1.58109073e+04,  9.55726384e+03,\n",
              "        1.31908322e+04,  5.41295303e+03,  1.35379480e+04,  8.33067495e+03,\n",
              "        9.51228477e+03,  5.13532567e+03,  1.06676929e+04,  1.56022703e+04,\n",
              "        1.02337810e+04,  1.11530094e+04,  2.59623664e+03,  3.61633992e+03,\n",
              "        2.88954969e+04,  4.37268611e+03,  1.47027082e+04,  6.97021981e+02,\n",
              "        1.46760847e+04,  1.27280941e+04,  3.48137607e+04,  9.38172615e+03,\n",
              "        2.33564419e+03,  3.90935307e+04,  5.23649664e+03,  2.76992419e+03,\n",
              "        1.00060460e+04,  1.32095537e+04,  1.22559143e+04,  6.52219733e+03,\n",
              "        3.23325940e+04,  3.00717491e+04,  2.99958030e+04,  6.60432856e+03,\n",
              "        7.13318835e+03,  1.45791380e+04,  5.35995151e+03,  1.04313714e+04,\n",
              "        2.63604056e+03,  2.89400700e+04,  1.26726601e+04,  9.82654139e+03,\n",
              "        3.21488398e+04,  3.69718231e+03,  1.09841992e+04,  1.04723678e+04,\n",
              "        7.54650629e+03,  5.44329001e+03,  3.60066137e+04,  1.20794822e+04,\n",
              "        9.22112835e+03,  1.30039691e+04,  9.95042353e+03,  9.93813895e+03,\n",
              "        1.53137372e+04,  3.90962547e+03,  1.35798933e+04,  9.29904030e+03,\n",
              "        3.82234812e+03,  2.58092261e+04,  8.26417158e+03,  6.19405822e+03,\n",
              "        3.38473215e+04,  1.29126895e+04,  1.16544018e+04,  8.29953993e+03,\n",
              "        7.64646692e+03,  9.78952224e+03,  2.96564347e+03,  2.97235997e+04,\n",
              "        7.03336866e+03,  4.10931286e+04,  6.62212411e+02,  7.60662781e+03,\n",
              "        1.47029835e+04,  8.52147467e+03,  1.29517428e+04,  4.85232678e+03,\n",
              "        3.47721917e+03,  4.04396479e+04,  1.82984562e+04,  8.94241487e+03,\n",
              "        4.44202344e+03,  6.65735881e+03,  7.74552535e+03,  1.12976851e+04,\n",
              "        2.63606327e+04,  8.13431158e+03,  5.11451852e+03,  6.01257382e+03,\n",
              "        1.09502085e+04,  3.13406481e+03,  1.49940434e+04,  8.60837601e+03,\n",
              "        1.52748351e+04,  9.65684343e+03,  1.42730498e+04,  2.63019317e+04,\n",
              "        1.79786251e+04,  7.37704565e+03,  1.59042915e+04,  8.95837514e+03,\n",
              "        8.48470964e+03,  1.22562101e+04,  8.93228362e+03,  3.18803610e+04,\n",
              "        5.18874568e+03,  1.04091264e+04,  3.96293669e+04,  7.51655617e+03,\n",
              "        2.53336859e+04,  1.28843625e+04,  1.01480924e+04,  1.70078565e+04,\n",
              "        8.28923690e+03,  2.69964154e+04,  1.15888980e+04,  3.31884509e+04,\n",
              "        5.80674612e+03, -4.54424599e+02,  1.18048808e+04,  1.53167399e+04,\n",
              "        3.89212963e+04,  7.56297271e+03,  3.86145425e+04,  1.10952492e+04,\n",
              "        3.74440417e+03,  1.63165433e+04,  8.25893395e+03,  2.81833800e+03,\n",
              "        1.06260122e+04,  1.08237325e+04,  1.20529546e+04,  1.27057786e+04,\n",
              "        2.86864860e+04,  3.43052736e+03,  1.14873458e+04,  6.21741035e+03,\n",
              "        8.25837185e+03,  1.19149152e+04,  8.54798816e+03,  1.14278733e+04,\n",
              "        1.74575715e+04,  7.90916886e+03,  1.01657721e+04,  9.52864965e+03,\n",
              "        2.54295562e+04,  1.11899565e+04,  5.65164531e+03,  3.44751407e+03,\n",
              "        9.30500273e+03,  9.34928796e+03,  2.67212005e+04,  1.34176740e+04,\n",
              "        3.59061133e+04,  2.95905215e+03,  7.93868489e+03,  1.54690604e+04,\n",
              "        3.36101105e+04,  1.18923465e+04,  2.87108843e+04,  1.21441016e+04,\n",
              "        2.55551047e+04,  9.78019537e+03,  1.43285768e+04,  7.23050587e+03,\n",
              "        1.23851916e+04,  5.65216722e+03,  5.67366847e+03,  4.26835880e+03,\n",
              "        3.78709942e+04,  8.92966873e+03,  1.64225860e+04,  3.73821121e+04,\n",
              "        7.63420364e+03,  9.40746566e+03,  1.40493536e+02,  1.29296935e+04,\n",
              "        1.17052105e+04,  2.83337579e+03,  5.08509247e+03,  4.42540271e+03,\n",
              "        1.16492703e+04,  3.39189361e+04,  1.08085421e+04,  7.05891371e+03,\n",
              "        1.73641945e+04,  2.93486561e+04,  4.28537837e+03,  1.46906096e+04,\n",
              "        5.04660190e+03,  1.46208101e+04,  8.72614154e+03,  4.44005061e+03,\n",
              "        1.17985770e+04,  9.28493328e+03,  1.41756006e+04,  1.32588882e+04,\n",
              "        6.66424373e+03,  6.87456547e+03,  3.39521931e+04,  3.63704639e+04,\n",
              "        1.07090871e+04,  6.47657063e+03,  1.22949676e+04,  3.10952502e+04,\n",
              "        1.08930943e+04,  5.42575777e+03,  7.86379452e+03,  2.46422468e+03,\n",
              "        1.14627998e+04,  6.95846579e+03,  1.38298032e+04,  2.95434388e+04,\n",
              "        2.51988459e+03,  1.19118432e+04,  3.54717212e+04,  1.59773328e+04,\n",
              "        8.94693508e+03,  9.69073756e+03,  5.72877121e+03,  2.75819911e+04,\n",
              "        1.16823992e+04,  4.33573651e+03,  9.40704028e+03,  1.17404179e+02,\n",
              "        1.26579163e+04,  8.61233957e+03,  2.91212715e+04,  7.46708496e+03,\n",
              "        5.15471161e+03,  1.28242890e+03,  1.02990970e+04,  1.25286826e+04,\n",
              "        1.35450923e+04,  7.78042751e+03,  3.10000598e+04,  1.64172941e+04,\n",
              "        3.96042732e+03,  3.41087893e+03,  9.25779170e+03,  1.20932068e+04,\n",
              "        1.27416597e+04,  9.93154639e+03,  7.61098164e+03,  8.29939796e+03,\n",
              "        4.66886372e+03,  1.12319087e+04,  7.99448640e+03,  6.37145565e+03,\n",
              "        8.82337337e+03,  3.35794829e+04,  3.09494316e+04,  1.41995809e+04,\n",
              "        7.81419706e+03,  3.91452941e+03,  8.76585287e+03,  8.94311472e+03,\n",
              "        7.21810275e+03,  2.45023042e+04,  3.69095823e+04,  1.62663014e+04,\n",
              "        3.36040359e+04,  1.41299639e+04,  7.46672254e+03,  2.71840713e+04,\n",
              "        3.74367019e+04,  9.92524706e+03,  1.24248877e+04,  1.10936578e+04,\n",
              "        7.55675238e+03,  1.16420300e+04,  1.40878766e+04,  6.02881600e+03,\n",
              "        8.58017361e+03,  3.06988474e+04,  1.63046686e+04,  9.21043027e+03,\n",
              "        1.44448837e+04,  3.18914424e+04,  7.09678385e+03,  3.56121715e+04,\n",
              "        1.03299874e+04,  3.14202013e+04, -1.46714397e+03,  9.38504685e+03,\n",
              "        3.62726739e+03,  3.10140157e+04,  1.60691278e+04,  5.60734233e+03,\n",
              "        6.90515954e+03,  3.40935532e+04,  2.26494649e+03,  1.61489113e+04,\n",
              "        3.08833390e+04,  8.68517133e+03,  1.37916865e+04,  8.85181411e+03,\n",
              "        3.23350281e+03,  3.25881694e+03,  9.76315777e+03,  3.93398746e+04,\n",
              "        2.83369925e+04,  2.54413426e+03,  1.34678926e+03,  8.99732863e+03,\n",
              "        5.81160607e+03,  1.56887810e+04,  1.31687985e+04,  3.03791887e+04,\n",
              "        4.23908263e+03,  2.77415633e+04,  1.58668186e+04,  2.67730297e+04,\n",
              "        2.38116353e+04,  3.21798525e+04,  7.16838942e+03,  9.24844301e+03,\n",
              "        1.15127962e+04,  3.50540411e+04,  7.57299594e+03,  3.70537395e+03,\n",
              "        3.18800018e+03,  5.61723131e+03,  2.78990240e+04,  5.70548307e+03,\n",
              "        1.16445843e+04,  1.24628552e+04,  1.11431482e+04,  1.03829702e+04,\n",
              "        2.71127352e+04,  9.92521231e+03,  8.87386832e+03,  1.59000327e+03,\n",
              "       -1.21260705e+03,  2.86292522e+04,  3.60092571e+04,  4.35461278e+03,\n",
              "        8.20774687e+03,  1.14322078e+04,  1.13366003e+04,  5.58120864e+03,\n",
              "        3.29360156e+03,  9.77275504e+03,  2.90860485e+04,  1.21446231e+04,\n",
              "        3.88746257e+04,  1.22926290e+04,  1.36474026e+03,  1.06943540e+04,\n",
              "        1.06494025e+04,  4.76832251e+03,  2.76575341e+04,  7.93843448e+03,\n",
              "        3.18742770e+04,  3.13831456e+04,  1.80928609e+04,  1.58122345e+04,\n",
              "        5.27814910e+03,  3.73718234e+04,  3.50543071e+04,  4.12102867e+03,\n",
              "        3.02430536e+04,  7.66519554e+03,  5.89075039e+03,  1.16421471e+04,\n",
              "        3.92099410e+03,  4.33243181e+03,  2.73857308e+04,  1.15177000e+04,\n",
              "        7.25690031e+03,  5.35083927e+03,  1.13074518e+04,  3.41956416e+04,\n",
              "        1.31940005e+04,  7.47778304e+03,  6.21252947e+03,  4.74114712e+03,\n",
              "        1.24517685e+04,  5.85592519e+03,  1.69852979e+03,  3.30324324e+04,\n",
              "        2.73736221e+03,  2.94417498e+04,  3.12168878e+04,  1.44814231e+04,\n",
              "       -9.57024728e+02,  2.93696095e+04,  9.08358763e+03,  1.13783862e+04,\n",
              "        1.52957885e+04,  3.74847116e+03,  6.46892205e+03,  1.31635365e+04,\n",
              "        1.31289890e+03,  2.08216743e+03,  8.82269525e+03,  9.51718857e+03,\n",
              "        7.04943237e+03,  1.14269631e+04,  6.61940635e+03,  9.39492375e+03,\n",
              "        7.86836676e+02,  9.70099288e+03,  8.43958141e+03,  8.44815663e+03,\n",
              "        5.73987592e+03,  3.54296237e+04,  7.63221016e+03,  2.31639758e+03,\n",
              "        3.11228404e+04,  5.38303003e+03,  3.70247216e+04,  1.56928291e+03,\n",
              "        9.61779393e+03,  3.08775254e+04,  3.72015670e+04,  1.04424776e+04,\n",
              "        4.27547099e+03,  2.04457847e+03,  2.33708655e+03,  7.36674540e+03,\n",
              "        4.05549171e+03,  6.86069467e+03,  2.63305052e+03,  5.71774104e+03,\n",
              "        9.35864763e+03,  3.91818888e+04,  1.08841312e+04,  6.69877504e+03,\n",
              "        1.09309395e+04,  1.52980171e+04,  3.95328364e+04,  9.50049502e+03,\n",
              "        5.27974563e+03,  3.65169255e+03,  1.48982927e+04,  3.37453852e+04,\n",
              "        6.04347967e+03,  2.86298997e+04,  3.62789321e+04,  4.36554505e+03,\n",
              "        3.45266739e+03,  7.58604897e+03,  5.91225390e+03,  4.62285292e+03,\n",
              "        4.01737706e+03,  8.43566244e+03,  3.99749139e+03,  2.92023942e+04,\n",
              "        1.82446755e+03,  1.53240152e+04,  6.27913248e+03,  6.25884585e+03,\n",
              "        3.15751593e+03,  3.90510603e+04,  1.76498510e+04,  8.43550069e+03,\n",
              "        1.07562282e+04,  5.08681876e+03,  2.74084402e+04,  1.33539788e+04,\n",
              "        1.17115756e+04,  9.05982285e+03,  3.32317350e+03,  3.40070356e+04,\n",
              "        8.62027497e+03,  5.70944284e+03,  1.50262341e+04,  1.27723850e+04,\n",
              "        8.19889755e+03,  2.78904461e+04,  6.85927130e+03,  3.21029787e+04,\n",
              "        8.05516827e+03,  6.71276111e+03,  1.37873258e+04,  1.29686208e+04,\n",
              "        1.55888218e+04,  1.71568812e+04,  4.02707066e+04,  2.58741487e+03,\n",
              "        7.55876200e+03,  3.61044846e+04,  3.73772524e+04,  8.76083030e+03,\n",
              "        5.29399272e+03,  6.35284404e+03,  2.88942893e+04,  3.62674812e+04,\n",
              "        1.23297772e+04,  8.07968450e+03,  5.73471299e+03,  5.96658128e+03,\n",
              "        1.20420272e+04,  3.83987156e+03,  7.96352474e+03,  8.39527488e+03,\n",
              "        1.20504690e+04,  9.94371278e+03,  1.38324362e+04,  1.27060448e+04,\n",
              "        8.46184968e+03,  1.59930364e+04,  9.66804566e+03,  1.25273396e+04,\n",
              "        3.66632961e+03,  3.81539106e+04,  9.26594392e+03,  4.66478641e+03,\n",
              "        1.31258099e+04,  5.66270544e+03,  5.84011356e+03,  1.00027688e+04,\n",
              "        4.68629849e+03,  2.89958896e+04,  1.19283512e+04,  1.95820732e+03,\n",
              "        9.41536613e+02,  3.83461263e+03,  3.19570915e+04,  3.09979181e+04,\n",
              "        8.02010903e+03,  2.23290650e+03,  1.64547454e+04,  5.79724916e+03,\n",
              "        1.53658209e+03,  1.01403267e+04,  3.49769148e+04,  2.93003890e+03,\n",
              "        2.34172582e+03,  7.63843172e+03,  1.16884690e+04,  1.18510717e+04,\n",
              "        1.06278789e+04,  1.20672384e+04,  3.19420262e+03,  6.33200681e+03,\n",
              "        7.84427316e+03,  1.31317409e+04,  8.32366553e+03,  1.67191928e+04,\n",
              "        7.55451241e+02,  3.87489493e+04,  3.33998800e+04,  1.18880082e+04,\n",
              "        1.21172347e+04,  8.96063882e+03,  1.94765259e+03,  1.39154005e+04,\n",
              "        1.37513244e+04,  4.93081058e+03,  1.58016676e+04,  1.25376264e+04,\n",
              "        6.75784475e+03,  3.16502784e+03,  1.02570612e+04,  6.35143733e+03,\n",
              "        3.00878583e+04,  1.22698181e+04,  1.12648593e+04,  2.23977433e+03,\n",
              "        5.56511307e+03,  9.01975790e+03,  3.74806378e+04,  5.97331746e+03,\n",
              "        1.32546707e+04,  1.02584509e+04,  2.82729020e+04,  8.41654369e+03,\n",
              "        1.20693141e+04,  4.28866105e+03,  1.27703768e+04,  3.85934408e+04,\n",
              "        3.73368911e+04,  1.01087979e+04,  4.17286836e+03,  5.27564730e+03,\n",
              "        1.08110611e+04,  3.24838361e+04,  3.31459946e+04,  4.17446707e+03,\n",
              "        3.25194911e+03,  3.11347725e+03,  5.29649778e+03,  9.09464652e+03,\n",
              "        3.02079811e+04,  6.42607728e+03,  1.02423140e+04,  1.21033328e+04,\n",
              "        5.61367386e+03,  3.77359709e+04,  3.02928852e+04,  1.17129726e+04])"
            ]
          },
          "metadata": {},
          "execution_count": 141
        }
      ]
    },
    {
      "cell_type": "code",
      "source": [
        "x.info"
      ],
      "metadata": {
        "colab": {
          "base_uri": "https://localhost:8080/"
        },
        "id": "FP02nt9AB9Ec",
        "outputId": "3f093e8a-dc23-4190-8927-de544e8b7d0b"
      },
      "execution_count": 143,
      "outputs": [
        {
          "output_type": "execute_result",
          "data": {
            "text/plain": [
              "<bound method DataFrame.info of       age  sex     bmi  children  smoker  region\n",
              "744    50    1  26.410         0       0       1\n",
              "363    21    0  26.400         1       0       3\n",
              "10     25    1  26.220         0       0       0\n",
              "970    50    0  28.160         3       0       2\n",
              "634    51    1  39.700         1       0       3\n",
              "...   ...  ...     ...       ...     ...     ...\n",
              "715    60    1  28.900         0       0       3\n",
              "905    26    0  29.355         2       0       0\n",
              "1096   51    0  34.960         2       1       0\n",
              "235    40    0  22.220         2       1       2\n",
              "1061   57    1  27.940         1       0       2\n",
              "\n",
              "[936 rows x 6 columns]>"
            ]
          },
          "metadata": {},
          "execution_count": 143
        }
      ]
    },
    {
      "cell_type": "code",
      "source": [
        "lr_Score = lr.score(xtest,ytest)"
      ],
      "metadata": {
        "id": "46-SMTvIEkWr"
      },
      "execution_count": 151,
      "outputs": []
    },
    {
      "cell_type": "markdown",
      "source": [
        "# **KNN Regressor**"
      ],
      "metadata": {
        "id": "d3OZnJqoE_cV"
      }
    },
    {
      "cell_type": "code",
      "source": [
        "from sklearn.neighbors import KNeighborsRegressor"
      ],
      "metadata": {
        "id": "KYeq42lvEnkQ"
      },
      "execution_count": 152,
      "outputs": []
    },
    {
      "cell_type": "code",
      "source": [
        "knr = KNeighborsRegressor(n_neighbors=3)"
      ],
      "metadata": {
        "id": "nLdbMqx8FFJV"
      },
      "execution_count": 153,
      "outputs": []
    },
    {
      "cell_type": "code",
      "source": [
        "kn=knr.fit(xtest,ytest)"
      ],
      "metadata": {
        "id": "kabBIR9vFHcG"
      },
      "execution_count": 154,
      "outputs": []
    },
    {
      "cell_type": "code",
      "source": [
        "print(kn)"
      ],
      "metadata": {
        "colab": {
          "base_uri": "https://localhost:8080/"
        },
        "id": "Dn26AyrIFJ2F",
        "outputId": "1a8e679e-3089-4793-a126-867f0b342584"
      },
      "execution_count": 155,
      "outputs": [
        {
          "output_type": "stream",
          "name": "stdout",
          "text": [
            "KNeighborsRegressor(n_neighbors=3)\n"
          ]
        }
      ]
    },
    {
      "cell_type": "code",
      "source": [
        "knr.predict(xtest)    # prediction"
      ],
      "metadata": {
        "colab": {
          "base_uri": "https://localhost:8080/"
        },
        "id": "tSRlOzQiFMEh",
        "outputId": "953732b3-5ded-4c4a-939d-00377f4a306f"
      },
      "execution_count": 156,
      "outputs": [
        {
          "output_type": "execute_result",
          "data": {
            "text/plain": [
              "array([ 1972.73781667, 11746.03648333,  9687.6632    , 16051.69987   ,\n",
              "        1888.95033333, 16515.26418333, 16051.69987   , 11247.00133333,\n",
              "        7950.20493333, 10096.69196667, 12594.89465   , 35423.723     ,\n",
              "       12295.92959333,  7118.54571667,  1333.80303333,  8781.58766667,\n",
              "       11246.94553667,  8465.28014667, 17623.63628667, 13300.3581    ,\n",
              "       14244.13188667, 34817.75422667, 13108.39493333, 14505.63943333,\n",
              "       12383.52858333, 12212.18731667, 16111.52861333,  8640.02713333,\n",
              "        5505.43548333,  3940.92241667, 11551.09363333, 12374.84061333,\n",
              "       20740.97688333, 12506.8436    , 20271.74653333, 14683.46468333,\n",
              "       30466.23194667, 12557.62308333, 11956.19016667, 26684.46159   ,\n",
              "        4420.1013    , 11778.8114    , 13502.59042667, 17333.67388667,\n",
              "       13562.38966667, 18309.75037   , 10366.08615   , 18954.07936667,\n",
              "        9633.36238333, 14259.46463333, 13343.10836667, 11007.308     ,\n",
              "        7125.81516667, 14125.93325   , 11755.10358333,  4878.9174    ,\n",
              "       19004.02375   , 17759.88622   ,  9342.86041333,  1783.77278333,\n",
              "       14587.01966667, 13768.81111667, 13017.43993333,  7626.58773333,\n",
              "       36385.17398333,  8975.5134    , 12994.05182667, 15031.19310333,\n",
              "        2709.72813333,  7124.18433333, 26848.65022333, 34817.75422667,\n",
              "        6692.74333333, 12156.39111667, 13317.72726667, 22367.36929   ,\n",
              "        6029.68607333,  3516.99913333, 14778.71603667, 13368.11806   ,\n",
              "        5874.1149    , 12139.14165   , 10387.08161667,  2504.965     ,\n",
              "       17570.74506667, 16095.54756667,  6687.31473333, 33544.68396667,\n",
              "        9801.87385   ,  7332.53146667, 10039.67338333, 14790.30545   ,\n",
              "       14210.02498333,  8729.24923333,  1987.67218333,  9931.18346667,\n",
              "        9079.19433333, 12195.2813    , 29473.50940333,  6147.5991    ,\n",
              "       14627.36130667,  7125.81516667, 13517.54303333, 23581.9129    ,\n",
              "       23819.71349   , 13017.43993333,  2385.24395   , 18421.56166667,\n",
              "        1664.23713333, 11247.00133333, 12129.28746333,  3587.78968333,\n",
              "        1991.80975   , 13986.78431667,  5974.03797333,  1416.519     ,\n",
              "       10669.95992333, 19605.26142333, 10319.53965667,  2251.49125   ,\n",
              "        9079.19433333, 16529.08948667,  6257.58336667, 11924.12183333,\n",
              "       22676.37475   , 10071.32256667, 12156.39111667, 14912.26171667,\n",
              "       19085.43815   ,  7806.8468    , 13027.02153333,  1729.73491667,\n",
              "        6589.01991667, 15967.71606667, 18633.85552333,  1729.73491667,\n",
              "        1991.80975   ,  1664.23713333,  9633.36238333, 19753.88613333,\n",
              "       13512.97105   , 16552.00893333, 16690.78088   , 14008.20593333,\n",
              "       13739.05395   , 11016.32228333,  1368.29296667,  7493.21146667,\n",
              "        1503.81313333,  6599.63818333, 19292.15563333,  3587.78968333,\n",
              "       21631.55475   , 12139.14165   , 20116.57428333,  6687.31473333,\n",
              "        9658.98966667, 20002.63975333, 14376.87475333,  5013.24511   ,\n",
              "        4045.28395   , 26034.01488333, 12106.33818333,  3173.01893333,\n",
              "       16750.06351667, 10465.1585    , 27462.04383333, 10046.1254    ,\n",
              "       11199.66366667, 15492.49636667,  4310.31406667,  3757.68466667,\n",
              "       18546.93083333, 17106.96126667,  3792.17633333,  6589.01991667,\n",
              "        5013.24511   , 13739.05395   ,  3747.15978333,  5502.44613333,\n",
              "       18309.75037   , 17435.7819    ,  9049.81665   , 19085.43815   ,\n",
              "        3051.21021667, 12731.3083    ,  7626.58773333,  8818.22326667,\n",
              "        7759.72431667, 16724.19248   , 24919.20205   , 34745.6861    ,\n",
              "       10058.77220333,  2709.72813333,  6742.1053    , 13508.676     ,\n",
              "        6705.27833333,  1972.73781667, 15499.05241667, 13108.39493333,\n",
              "        6417.11113333, 22150.52099   , 15939.65905   , 23334.99392667,\n",
              "        6116.24046667,  1859.66741667, 17662.4264    ,  7011.04368333,\n",
              "        2318.98113333, 10914.364     ,  4105.06685   , 14750.77841667,\n",
              "       18944.27616   , 14820.6539    , 15967.71606667, 25397.25468333,\n",
              "       11247.00133333, 19167.88553333,  1333.80303333, 18219.60096667,\n",
              "        2163.60685   , 18168.67373333, 12139.14165   ,  3747.15978333,\n",
              "        7187.30956667,  6713.52271667,  4045.28395   ,  4868.12074333,\n",
              "        6692.74333333, 14137.45025   , 11222.1155    , 14259.46463333,\n",
              "       34844.5454    ,  9627.80556667, 11393.18005   , 10451.734     ,\n",
              "       13349.95665   ,  1513.53378333, 20160.2845    ,  4310.31406667,\n",
              "        8695.56896667,  2255.48278333, 31341.84423667, 10331.89354   ,\n",
              "       14159.02714   , 20421.10718333, 11691.33815667,  8554.36276667,\n",
              "       18774.77233   , 14137.45025   , 21631.55475   ,  4180.23506667,\n",
              "       12594.89465   , 26950.45022333,  7888.99616667,  2255.48278333,\n",
              "       23168.17728333, 11850.44103333,  1661.86055   , 42678.11852   ,\n",
              "       18542.59891667, 11920.6514    ,  8079.28486667, 34646.85056   ,\n",
              "       19357.14035   , 20616.75475   ,  1972.73781667,  5321.12031667,\n",
              "       15230.46515   , 18168.67373333, 13027.02153333, 17106.96126667,\n",
              "        8079.28486667, 16245.97119   ,  7024.643     , 24291.266     ,\n",
              "        6310.46028333, 11246.94553667, 17470.75611667,  9627.80556667,\n",
              "        6529.141     , 11691.33815667,  7151.24031333,  2251.49125   ,\n",
              "        8560.353     ,  9319.3019    , 12092.5553    , 12498.97422667,\n",
              "        2504.965     ,  6589.01991667, 10419.34586667, 19605.26142333,\n",
              "       14532.27996667, 14583.69226667,  2768.72035   , 11920.6514    ,\n",
              "        7385.78445   , 10843.64813   ,  3051.21021667,  6793.62986667,\n",
              "        6003.14581667, 12410.20733333,  4401.4155    ,  6810.10516667,\n",
              "        4405.32443333, 15492.49636667, 10011.19911667,  3746.11986667,\n",
              "        1496.83533333,  9798.16203333, 15967.71606667,  1956.27161667,\n",
              "        9802.15668333,  2912.20411667, 10203.80561667, 13866.38976667,\n",
              "       16411.09758333,  9339.81616667, 13300.3581    , 21679.06783333,\n",
              "       22216.6149    ,  5874.1149    ,  3717.42263333,  7385.78445   ,\n",
              "       19900.60758667, 16599.94713333, 14259.46463333,  6793.62986667,\n",
              "        8381.37475   , 13108.39493333, 12659.91913333, 11856.51183333,\n",
              "       14244.13188667,  2560.96566667, 16245.97119   ,  3746.11986667,\n",
              "        7480.5306    , 19085.43815   , 14400.32576667, 19390.77723333,\n",
              "       37452.04610333, 12714.17883333, 17941.7138    ,  3016.03861667,\n",
              "        7636.71836667, 19443.55369667,  4719.02841667,  2709.72813333,\n",
              "        2669.52183333, 11551.09363333,  3747.15978333,  1944.58121667,\n",
              "       14790.30545   , 33544.68396667,  6931.42923333,  8123.93861667,\n",
              "       10419.34586667, 19390.77723333, 22765.81463333, 10725.46597333,\n",
              "        4140.89033333, 14790.30545   ,  8695.56896667,  8560.353     ,\n",
              "        5440.6296    , 19155.86703333, 30466.23194667, 12932.9946    ,\n",
              "        6793.62986667, 13437.51433333, 14902.32833333, 22216.6149    ,\n",
              "        6255.18446667, 15020.55975333,  6757.40078333,  9801.87385   ,\n",
              "       25030.0077    ,  2484.16776667,  6316.26143333, 12007.49438333,\n",
              "        7100.21743333, 13800.14933333, 17472.0326    , 16601.24094667,\n",
              "       26661.58637   , 21631.55475   , 13986.78431667,  3514.33603333,\n",
              "       34766.38692667, 15425.1939    , 27154.7409    , 25285.84776667,\n",
              "       12484.61052667, 37452.04610333, 23581.9129    , 16828.8581    ,\n",
              "       17321.65486667, 11596.22135   , 23829.58533333,  7231.9089    ,\n",
              "       12604.33546667, 14505.63943333])"
            ]
          },
          "metadata": {},
          "execution_count": 156
        }
      ]
    },
    {
      "cell_type": "code",
      "source": [
        "knn_score=knr.score(xtest,ytest)\n",
        "knn_score                "
      ],
      "metadata": {
        "colab": {
          "base_uri": "https://localhost:8080/"
        },
        "id": "B9D3NuwDFObL",
        "outputId": "fb4aeb8b-e158-424f-9d91-5de5479635cd"
      },
      "execution_count": 157,
      "outputs": [
        {
          "output_type": "execute_result",
          "data": {
            "text/plain": [
              "0.5174144226520633"
            ]
          },
          "metadata": {},
          "execution_count": 157
        }
      ]
    },
    {
      "cell_type": "markdown",
      "source": [
        "# ***Accuracy = LR VS KNN***"
      ],
      "metadata": {
        "id": "M-B2VrPdFYVk"
      }
    },
    {
      "cell_type": "code",
      "source": [
        "lr_Score"
      ],
      "metadata": {
        "colab": {
          "base_uri": "https://localhost:8080/"
        },
        "id": "WqOYLakjFVCU",
        "outputId": "8e74b070-37d4-44ec-e89e-2e83c6c3efff"
      },
      "execution_count": 158,
      "outputs": [
        {
          "output_type": "execute_result",
          "data": {
            "text/plain": [
              "0.7403677168975319"
            ]
          },
          "metadata": {},
          "execution_count": 158
        }
      ]
    },
    {
      "cell_type": "code",
      "source": [
        "knn_score"
      ],
      "metadata": {
        "colab": {
          "base_uri": "https://localhost:8080/"
        },
        "id": "Jq_plG98FiLC",
        "outputId": "341038c2-7b87-46e7-ad54-ecca2e2cea99"
      },
      "execution_count": 159,
      "outputs": [
        {
          "output_type": "execute_result",
          "data": {
            "text/plain": [
              "0.5174144226520633"
            ]
          },
          "metadata": {},
          "execution_count": 159
        }
      ]
    },
    {
      "cell_type": "code",
      "source": [
        "com=lr_Score-knn_score\n",
        "com"
      ],
      "metadata": {
        "colab": {
          "base_uri": "https://localhost:8080/"
        },
        "id": "FALcYHNwFkqO",
        "outputId": "aa842614-c05a-4f16-abe8-ef70f93b16e8"
      },
      "execution_count": 162,
      "outputs": [
        {
          "output_type": "execute_result",
          "data": {
            "text/plain": [
              "0.22295329424546861"
            ]
          },
          "metadata": {},
          "execution_count": 162
        }
      ]
    },
    {
      "cell_type": "code",
      "source": [
        "d = {'Algorithm name': ['linear_Regression','KNN Regressor'], 'Accuracy': [lr_Score,knn_score]}"
      ],
      "metadata": {
        "id": "mbhCa2z3Fpjr"
      },
      "execution_count": 163,
      "outputs": []
    },
    {
      "cell_type": "code",
      "source": [
        "d"
      ],
      "metadata": {
        "colab": {
          "base_uri": "https://localhost:8080/"
        },
        "id": "focZ6lskF7gn",
        "outputId": "65d227d6-bd9a-4730-c7a1-d9d7a5ab9654"
      },
      "execution_count": 164,
      "outputs": [
        {
          "output_type": "execute_result",
          "data": {
            "text/plain": [
              "{'Algorithm name': ['linear_Regression', 'KNN Regressor'],\n",
              " 'Accuracy': [0.7403677168975319, 0.5174144226520633]}"
            ]
          },
          "metadata": {},
          "execution_count": 164
        }
      ]
    },
    {
      "cell_type": "code",
      "source": [
        "dfa=pd.DataFrame(d)\n",
        "dfa"
      ],
      "metadata": {
        "colab": {
          "base_uri": "https://localhost:8080/",
          "height": 112
        },
        "id": "07BzeBO1F8xd",
        "outputId": "24d9794d-20f0-4793-d0e5-c2a35428e0e3"
      },
      "execution_count": 166,
      "outputs": [
        {
          "output_type": "execute_result",
          "data": {
            "text/plain": [
              "      Algorithm name  Accuracy\n",
              "0  linear_Regression  0.740368\n",
              "1      KNN Regressor  0.517414"
            ],
            "text/html": [
              "\n",
              "  <div id=\"df-443fe925-c377-4b53-9dbb-02773769e5f7\">\n",
              "    <div class=\"colab-df-container\">\n",
              "      <div>\n",
              "<style scoped>\n",
              "    .dataframe tbody tr th:only-of-type {\n",
              "        vertical-align: middle;\n",
              "    }\n",
              "\n",
              "    .dataframe tbody tr th {\n",
              "        vertical-align: top;\n",
              "    }\n",
              "\n",
              "    .dataframe thead th {\n",
              "        text-align: right;\n",
              "    }\n",
              "</style>\n",
              "<table border=\"1\" class=\"dataframe\">\n",
              "  <thead>\n",
              "    <tr style=\"text-align: right;\">\n",
              "      <th></th>\n",
              "      <th>Algorithm name</th>\n",
              "      <th>Accuracy</th>\n",
              "    </tr>\n",
              "  </thead>\n",
              "  <tbody>\n",
              "    <tr>\n",
              "      <th>0</th>\n",
              "      <td>linear_Regression</td>\n",
              "      <td>0.740368</td>\n",
              "    </tr>\n",
              "    <tr>\n",
              "      <th>1</th>\n",
              "      <td>KNN Regressor</td>\n",
              "      <td>0.517414</td>\n",
              "    </tr>\n",
              "  </tbody>\n",
              "</table>\n",
              "</div>\n",
              "      <button class=\"colab-df-convert\" onclick=\"convertToInteractive('df-443fe925-c377-4b53-9dbb-02773769e5f7')\"\n",
              "              title=\"Convert this dataframe to an interactive table.\"\n",
              "              style=\"display:none;\">\n",
              "        \n",
              "  <svg xmlns=\"http://www.w3.org/2000/svg\" height=\"24px\"viewBox=\"0 0 24 24\"\n",
              "       width=\"24px\">\n",
              "    <path d=\"M0 0h24v24H0V0z\" fill=\"none\"/>\n",
              "    <path d=\"M18.56 5.44l.94 2.06.94-2.06 2.06-.94-2.06-.94-.94-2.06-.94 2.06-2.06.94zm-11 1L8.5 8.5l.94-2.06 2.06-.94-2.06-.94L8.5 2.5l-.94 2.06-2.06.94zm10 10l.94 2.06.94-2.06 2.06-.94-2.06-.94-.94-2.06-.94 2.06-2.06.94z\"/><path d=\"M17.41 7.96l-1.37-1.37c-.4-.4-.92-.59-1.43-.59-.52 0-1.04.2-1.43.59L10.3 9.45l-7.72 7.72c-.78.78-.78 2.05 0 2.83L4 21.41c.39.39.9.59 1.41.59.51 0 1.02-.2 1.41-.59l7.78-7.78 2.81-2.81c.8-.78.8-2.07 0-2.86zM5.41 20L4 18.59l7.72-7.72 1.47 1.35L5.41 20z\"/>\n",
              "  </svg>\n",
              "      </button>\n",
              "      \n",
              "  <style>\n",
              "    .colab-df-container {\n",
              "      display:flex;\n",
              "      flex-wrap:wrap;\n",
              "      gap: 12px;\n",
              "    }\n",
              "\n",
              "    .colab-df-convert {\n",
              "      background-color: #E8F0FE;\n",
              "      border: none;\n",
              "      border-radius: 50%;\n",
              "      cursor: pointer;\n",
              "      display: none;\n",
              "      fill: #1967D2;\n",
              "      height: 32px;\n",
              "      padding: 0 0 0 0;\n",
              "      width: 32px;\n",
              "    }\n",
              "\n",
              "    .colab-df-convert:hover {\n",
              "      background-color: #E2EBFA;\n",
              "      box-shadow: 0px 1px 2px rgba(60, 64, 67, 0.3), 0px 1px 3px 1px rgba(60, 64, 67, 0.15);\n",
              "      fill: #174EA6;\n",
              "    }\n",
              "\n",
              "    [theme=dark] .colab-df-convert {\n",
              "      background-color: #3B4455;\n",
              "      fill: #D2E3FC;\n",
              "    }\n",
              "\n",
              "    [theme=dark] .colab-df-convert:hover {\n",
              "      background-color: #434B5C;\n",
              "      box-shadow: 0px 1px 3px 1px rgba(0, 0, 0, 0.15);\n",
              "      filter: drop-shadow(0px 1px 2px rgba(0, 0, 0, 0.3));\n",
              "      fill: #FFFFFF;\n",
              "    }\n",
              "  </style>\n",
              "\n",
              "      <script>\n",
              "        const buttonEl =\n",
              "          document.querySelector('#df-443fe925-c377-4b53-9dbb-02773769e5f7 button.colab-df-convert');\n",
              "        buttonEl.style.display =\n",
              "          google.colab.kernel.accessAllowed ? 'block' : 'none';\n",
              "\n",
              "        async function convertToInteractive(key) {\n",
              "          const element = document.querySelector('#df-443fe925-c377-4b53-9dbb-02773769e5f7');\n",
              "          const dataTable =\n",
              "            await google.colab.kernel.invokeFunction('convertToInteractive',\n",
              "                                                     [key], {});\n",
              "          if (!dataTable) return;\n",
              "\n",
              "          const docLinkHtml = 'Like what you see? Visit the ' +\n",
              "            '<a target=\"_blank\" href=https://colab.research.google.com/notebooks/data_table.ipynb>data table notebook</a>'\n",
              "            + ' to learn more about interactive tables.';\n",
              "          element.innerHTML = '';\n",
              "          dataTable['output_type'] = 'display_data';\n",
              "          await google.colab.output.renderOutput(dataTable, element);\n",
              "          const docLink = document.createElement('div');\n",
              "          docLink.innerHTML = docLinkHtml;\n",
              "          element.appendChild(docLink);\n",
              "        }\n",
              "      </script>\n",
              "    </div>\n",
              "  </div>\n",
              "  "
            ]
          },
          "metadata": {},
          "execution_count": 166
        }
      ]
    },
    {
      "cell_type": "code",
      "source": [
        "sns.set_theme(style=\"whitegrid\")\n",
        "b=sns.barplot(y=\"Algorithm name\",x=\"Accuracy\",data=d,palette=\"cubehelix\",capsize=.2)"
      ],
      "metadata": {
        "colab": {
          "base_uri": "https://localhost:8080/",
          "height": 268
        },
        "id": "gLvBcrwxGGBm",
        "outputId": "fc548aa7-00b3-4e6d-8336-533c9553d779"
      },
      "execution_count": 199,
      "outputs": [
        {
          "output_type": "display_data",
          "data": {
            "text/plain": [
              "<Figure size 432x288 with 1 Axes>"
            ],
            "image/png": "[encoded data removed]"
          },
          "metadata": {}
        }
      ]
    },
    {
      "cell_type": "code",
      "source": [],
      "metadata": {
        "id": "ZxEedLOOGMCq"
      },
      "execution_count": null,
      "outputs": []
    }
  ]
}